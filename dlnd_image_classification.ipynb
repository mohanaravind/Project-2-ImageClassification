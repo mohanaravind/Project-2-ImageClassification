{
 "cells": [
  {
   "cell_type": "markdown",
   "metadata": {
    "collapsed": true
   },
   "source": [
    "# Image Classification\n",
    "In this project, you'll classify images from the [CIFAR-10 dataset](https://www.cs.toronto.edu/~kriz/cifar.html).  The dataset consists of airplanes, dogs, cats, and other objects. You'll preprocess the images, then train a convolutional neural network on all the samples. The images need to be normalized and the labels need to be one-hot encoded.  You'll get to apply what you learned and build a convolutional, max pooling, dropout, and fully connected layers.  At the end, you'll get to see your neural network's predictions on the sample images.\n",
    "## Get the Data\n",
    "Run the following cell to download the [CIFAR-10 dataset for python](https://www.cs.toronto.edu/~kriz/cifar-10-python.tar.gz)."
   ]
  },
  {
   "cell_type": "code",
   "execution_count": 1,
   "metadata": {
    "collapsed": false
   },
   "outputs": [
    {
     "name": "stderr",
     "output_type": "stream",
     "text": [
      "CIFAR-10 Dataset: 171MB [06:52, 414KB/s]                                                            \n"
     ]
    },
    {
     "name": "stdout",
     "output_type": "stream",
     "text": [
      "All files found!\n"
     ]
    }
   ],
   "source": [
    "\"\"\"\n",
    "DON'T MODIFY ANYTHING IN THIS CELL THAT IS BELOW THIS LINE\n",
    "\"\"\"\n",
    "from urllib.request import urlretrieve\n",
    "from os.path import isfile, isdir\n",
    "from tqdm import tqdm\n",
    "import problem_unittests as tests\n",
    "import tarfile\n",
    "\n",
    "cifar10_dataset_folder_path = 'cifar-10-batches-py'\n",
    "\n",
    "class DLProgress(tqdm):\n",
    "    last_block = 0\n",
    "\n",
    "    def hook(self, block_num=1, block_size=1, total_size=None):\n",
    "        self.total = total_size\n",
    "        self.update((block_num - self.last_block) * block_size)\n",
    "        self.last_block = block_num\n",
    "\n",
    "if not isfile('cifar-10-python.tar.gz'):\n",
    "    with DLProgress(unit='B', unit_scale=True, miniters=1, desc='CIFAR-10 Dataset') as pbar:\n",
    "        urlretrieve(\n",
    "            'https://www.cs.toronto.edu/~kriz/cifar-10-python.tar.gz',\n",
    "            'cifar-10-python.tar.gz',\n",
    "            pbar.hook)\n",
    "\n",
    "if not isdir(cifar10_dataset_folder_path):\n",
    "    with tarfile.open('cifar-10-python.tar.gz') as tar:\n",
    "        tar.extractall()\n",
    "        tar.close()\n",
    "\n",
    "\n",
    "tests.test_folder_path(cifar10_dataset_folder_path)"
   ]
  },
  {
   "cell_type": "markdown",
   "metadata": {},
   "source": [
    "## Explore the Data\n",
    "The dataset is broken into batches to prevent your machine from running out of memory.  The CIFAR-10 dataset consists of 5 batches, named `data_batch_1`, `data_batch_2`, etc.. Each batch contains the labels and images that are one of the following:\n",
    "* airplane\n",
    "* automobile\n",
    "* bird\n",
    "* cat\n",
    "* deer\n",
    "* dog\n",
    "* frog\n",
    "* horse\n",
    "* ship\n",
    "* truck\n",
    "\n",
    "Understanding a dataset is part of making predictions on the data.  Play around with the code cell below by changing the `batch_id` and `sample_id`. The `batch_id` is the id for a batch (1-5). The `sample_id` is the id for a image and label pair in the batch.\n",
    "\n",
    "Ask yourself \"What are all possible labels?\", \"What is the range of values for the image data?\", \"Are the labels in order or random?\".  Answers to questions like these will help you preprocess the data and end up with better predictions."
   ]
  },
  {
   "cell_type": "code",
   "execution_count": 4,
   "metadata": {
    "collapsed": false
   },
   "outputs": [
    {
     "name": "stdout",
     "output_type": "stream",
     "text": [
      "\n",
      "Stats of batch 2:\n",
      "Samples: 10000\n",
      "Label Counts: {0: 984, 1: 1007, 2: 1010, 3: 995, 4: 1010, 5: 988, 6: 1008, 7: 1026, 8: 987, 9: 985}\n",
      "First 20 Labels: [1, 6, 6, 8, 8, 3, 4, 6, 0, 6, 0, 3, 6, 6, 5, 4, 8, 3, 2, 6]\n",
      "\n",
      "Example of Image 6:\n",
      "Image - Min Value: 0 Max Value: 235\n",
      "Image - Shape: (32, 32, 3)\n",
      "Label - Label Id: 4 Name: deer\n"
     ]
    },
    {
     "data": {
      "image/png": "[encoded data removed]",
      "text/plain": [
       "<matplotlib.figure.Figure at 0x472f518>"
      ]
     },
     "metadata": {
      "image/png": {
       "height": 250,
       "width": 253
      }
     },
     "output_type": "display_data"
    }
   ],
   "source": [
    "%matplotlib inline\n",
    "%config InlineBackend.figure_format = 'retina'\n",
    "\n",
    "import helper\n",
    "import numpy as np\n",
    "\n",
    "# Explore the dataset\n",
    "batch_id = 2\n",
    "sample_id = 6\n",
    "helper.display_stats(cifar10_dataset_folder_path, batch_id, sample_id)"
   ]
  },
  {
   "cell_type": "markdown",
   "metadata": {},
   "source": [
    "## Implement Preprocess Functions\n",
    "### Normalize\n",
    "In the cell below, implement the `normalize` function to take in image data, `x`, and return it as a normalized Numpy array. The values should be in the range of 0 to 1, inclusive.  The return object should be the same shape as `x`."
   ]
  },
  {
   "cell_type": "code",
   "execution_count": 355,
   "metadata": {
    "collapsed": false
   },
   "outputs": [
    {
     "name": "stdout",
     "output_type": "stream",
     "text": [
      "Tests Passed\n"
     ]
    }
   ],
   "source": [
    "def normalize(x):\n",
    "    \"\"\"\n",
    "    Normalize a list of sample image data in the range of 0 to 1\n",
    "    : x: List of image data.  The image shape is (32, 32, 3)\n",
    "    : return: Numpy array of normalize data\n",
    "    \"\"\"\n",
    "    # TODO: Implement Function\n",
    "    # Using min-max normalization\n",
    "    return np.array(x/255)\n",
    "\n",
    "\n",
    "\"\"\"\n",
    "DON'T MODIFY ANYTHING IN THIS CELL THAT IS BELOW THIS LINE\n",
    "\"\"\"\n",
    "tests.test_normalize(normalize)"
   ]
  },
  {
   "cell_type": "markdown",
   "metadata": {},
   "source": [
    "### One-hot encode\n",
    "Just like the previous code cell, you'll be implementing a function for preprocessing.  This time, you'll implement the `one_hot_encode` function. The input, `x`, are a list of labels.  Implement the function to return the list of labels as One-Hot encoded Numpy array.  The possible values for labels are 0 to 9. The one-hot encoding function should return the same encoding for each value between each call to `one_hot_encode`.  Make sure to save the map of encodings outside the function.\n",
    "\n",
    "Hint: Don't reinvent the wheel."
   ]
  },
  {
   "cell_type": "code",
   "execution_count": 389,
   "metadata": {
    "collapsed": false
   },
   "outputs": [
    {
     "name": "stdout",
     "output_type": "stream",
     "text": [
      "Tests Passed\n"
     ]
    }
   ],
   "source": [
    "def one_hot_encode(x):\n",
    "    \"\"\"\n",
    "    One hot encode a list of sample labels. Return a one-hot encoded vector for each label.\n",
    "    : x: List of sample Labels\n",
    "    : return: Numpy array of one-hot encoded labels\n",
    "    \"\"\"\n",
    "    # TODO: Implement Function\n",
    "    labels_count = 10\n",
    "\n",
    "    labels = np.array([])\n",
    "    for idx in range(labels_count):\n",
    "        labels = np.append(labels, idx)\n",
    "\n",
    "    a = list(map(lambda a: labels == a, x))\n",
    "    a = np.asarray(a)\n",
    "    a = a.astype(int)\n",
    "    \n",
    "    return a\n",
    "\n",
    "\n",
    "\"\"\"\n",
    "DON'T MODIFY ANYTHING IN THIS CELL THAT IS BELOW THIS LINE\n",
    "\"\"\"\n",
    "tests.test_one_hot_encode(one_hot_encode)"
   ]
  },
  {
   "cell_type": "markdown",
   "metadata": {},
   "source": [
    "### Randomize Data\n",
    "As you saw from exploring the data above, the order of the samples are randomized.  It doesn't hurt to randomize it again, but you don't need to for this dataset."
   ]
  },
  {
   "cell_type": "markdown",
   "metadata": {},
   "source": [
    "## Preprocess all the data and save it\n",
    "Running the code cell below will preprocess all the CIFAR-10 data and save it to file. The code below also uses 10% of the training data for validation."
   ]
  },
  {
   "cell_type": "code",
   "execution_count": 121,
   "metadata": {
    "collapsed": false
   },
   "outputs": [],
   "source": [
    "\"\"\"\n",
    "DON'T MODIFY ANYTHING IN THIS CELL\n",
    "\"\"\"\n",
    "# Preprocess Training, Validation, and Testing Data\n",
    "helper.preprocess_and_save_data(cifar10_dataset_folder_path, normalize, one_hot_encode)"
   ]
  },
  {
   "cell_type": "markdown",
   "metadata": {},
   "source": [
    "# Check Point\n",
    "This is your first checkpoint.  If you ever decide to come back to this notebook or have to restart the notebook, you can start from here.  The preprocessed data has been saved to disk."
   ]
  },
  {
   "cell_type": "code",
   "execution_count": 390,
   "metadata": {
    "collapsed": true
   },
   "outputs": [],
   "source": [
    "\"\"\"\n",
    "DON'T MODIFY ANYTHING IN THIS CELL\n",
    "\"\"\"\n",
    "import pickle\n",
    "import problem_unittests as tests\n",
    "import helper\n",
    "\n",
    "# Load the Preprocessed Validation data\n",
    "valid_features, valid_labels = pickle.load(open('preprocess_validation.p', mode='rb'))"
   ]
  },
  {
   "cell_type": "markdown",
   "metadata": {},
   "source": [
    "## Build the network\n",
    "For the neural network, you'll build each layer into a function.  Most of the code you've seen has been outside of functions. To test your code more thoroughly, we require that you put each layer in a function.  This allows us to give you better feedback and test for simple mistakes using our unittests before you submit your project.\n",
    "\n",
    ">**Note:** If you're finding it hard to dedicate enough time for this course each week, we've provided a small shortcut to this part of the project. In the next couple of problems, you'll have the option to use classes from the [TensorFlow Layers](https://www.tensorflow.org/api_docs/python/tf/layers) or [TensorFlow Layers (contrib)](https://www.tensorflow.org/api_guides/python/contrib.layers) packages to build each layer, except the layers you build in the \"Convolutional and Max Pooling Layer\" section.  TF Layers is similar to Keras's and TFLearn's abstraction to layers, so it's easy to pickup.\n",
    "\n",
    ">However, if you would like to get the most out of this course, try to solve all the problems _without_ using anything from the TF Layers packages. You **can** still use classes from other packages that happen to have the same name as ones you find in TF Layers! For example, instead of using the TF Layers version of the `conv2d` class, [tf.layers.conv2d](https://www.tensorflow.org/api_docs/python/tf/layers/conv2d), you would want to use the TF Neural Network version of `conv2d`, [tf.nn.conv2d](https://www.tensorflow.org/api_docs/python/tf/nn/conv2d). \n",
    "\n",
    "Let's begin!\n",
    "\n",
    "### Input\n",
    "The neural network needs to read the image data, one-hot encoded labels, and dropout keep probability. Implement the following functions\n",
    "* Implement `neural_net_image_input`\n",
    " * Return a [TF Placeholder](https://www.tensorflow.org/api_docs/python/tf/placeholder)\n",
    " * Set the shape using `image_shape` with batch size set to `None`.\n",
    " * Name the TensorFlow placeholder \"x\" using the TensorFlow `name` parameter in the [TF Placeholder](https://www.tensorflow.org/api_docs/python/tf/placeholder).\n",
    "* Implement `neural_net_label_input`\n",
    " * Return a [TF Placeholder](https://www.tensorflow.org/api_docs/python/tf/placeholder)\n",
    " * Set the shape using `n_classes` with batch size set to `None`.\n",
    " * Name the TensorFlow placeholder \"y\" using the TensorFlow `name` parameter in the [TF Placeholder](https://www.tensorflow.org/api_docs/python/tf/placeholder).\n",
    "* Implement `neural_net_keep_prob_input`\n",
    " * Return a [TF Placeholder](https://www.tensorflow.org/api_docs/python/tf/placeholder) for dropout keep probability.\n",
    " * Name the TensorFlow placeholder \"keep_prob\" using the TensorFlow `name` parameter in the [TF Placeholder](https://www.tensorflow.org/api_docs/python/tf/placeholder).\n",
    "\n",
    "These names will be used at the end of the project to load your saved model.\n",
    "\n",
    "Note: `None` for shapes in TensorFlow allow for a dynamic size."
   ]
  },
  {
   "cell_type": "code",
   "execution_count": 396,
   "metadata": {
    "collapsed": false
   },
   "outputs": [
    {
     "name": "stdout",
     "output_type": "stream",
     "text": [
      "Image Input Tests Passed.\n",
      "Label Input Tests Passed.\n",
      "Keep Prob Tests Passed.\n"
     ]
    }
   ],
   "source": [
    "import tensorflow as tf\n",
    "\n",
    "def neural_net_image_input(image_shape):\n",
    "    \"\"\"\n",
    "    Return a Tensor for a bach of image input\n",
    "    : image_shape: Shape of the images\n",
    "    : return: Tensor for image input.\n",
    "    \"\"\"\n",
    "    # TODO: Implement Function\n",
    "    #Add the batch size\n",
    "    shape = (None,) + image_shape\n",
    "    return tf.placeholder(tf.float32, shape=shape, name='x')\n",
    "\n",
    "\n",
    "def neural_net_label_input(n_classes):\n",
    "    \"\"\"\n",
    "    Return a Tensor for a batch of label input\n",
    "    : n_classes: Number of classes\n",
    "    : return: Tensor for label input.\n",
    "    \"\"\"\n",
    "    # TODO: Implement Function\n",
    "    #Add the batch size\n",
    "    return tf.placeholder(tf.float32, shape=(None, n_classes), name='y')\n",
    "\n",
    "\n",
    "def neural_net_keep_prob_input():\n",
    "    \"\"\"\n",
    "    Return a Tensor for keep probability\n",
    "    : return: Tensor for keep probability.\n",
    "    \"\"\"\n",
    "    # TODO: Implement Function\n",
    "    return tf.placeholder(tf.float32, name='keep_prob')\n",
    "\n",
    "\n",
    "\"\"\"\n",
    "DON'T MODIFY ANYTHING IN THIS CELL THAT IS BELOW THIS LINE\n",
    "\"\"\"\n",
    "tf.reset_default_graph()\n",
    "tests.test_nn_image_inputs(neural_net_image_input)\n",
    "tests.test_nn_label_inputs(neural_net_label_input)\n",
    "tests.test_nn_keep_prob_inputs(neural_net_keep_prob_input)"
   ]
  },
  {
   "cell_type": "markdown",
   "metadata": {},
   "source": [
    "### Convolution and Max Pooling Layer\n",
    "Convolution layers have a lot of success with images. For this code cell, you should implement the function `conv2d_maxpool` to apply convolution then max pooling:\n",
    "* Create the weight and bias using `conv_ksize`, `conv_num_outputs` and the shape of `x_tensor`.\n",
    "* Apply a convolution to `x_tensor` using weight and `conv_strides`.\n",
    " * We recommend you use same padding, but you're welcome to use any padding.\n",
    "* Add bias\n",
    "* Add a nonlinear activation to the convolution.\n",
    "* Apply Max Pooling using `pool_ksize` and `pool_strides`.\n",
    " * We recommend you use same padding, but you're welcome to use any padding.\n",
    "\n",
    "**Note:** You **can't** use [TensorFlow Layers](https://www.tensorflow.org/api_docs/python/tf/layers) or [TensorFlow Layers (contrib)](https://www.tensorflow.org/api_guides/python/contrib.layers) for **this** layer, but you can still use TensorFlow's [Neural Network](https://www.tensorflow.org/api_docs/python/tf/nn) package. You may still use the shortcut option for all the **other** layers."
   ]
  },
  {
   "cell_type": "code",
   "execution_count": 399,
   "metadata": {
    "collapsed": false
   },
   "outputs": [
    {
     "name": "stdout",
     "output_type": "stream",
     "text": [
      "Tests Passed\n"
     ]
    }
   ],
   "source": [
    "def conv2d_maxpool(x_tensor, conv_num_outputs, conv_ksize, conv_strides, pool_ksize, pool_strides):\n",
    "    \"\"\"\n",
    "    Apply convolution then max pooling to x_tensor\n",
    "    :param x_tensor: TensorFlow Tensor\n",
    "    :param conv_num_outputs: Number of outputs for the convolutional layer\n",
    "    :param conv_ksize: kernal size 2-D Tuple for the convolutional layer\n",
    "    :param conv_strides: Stride 2-D Tuple for convolution\n",
    "    :param pool_ksize: kernal size 2-D Tuple for pool\n",
    "    :param pool_strides: Stride 2-D Tuple for pool\n",
    "    : return: A tensor that represents convolution and max pooling of x_tensor\n",
    "    \"\"\"\n",
    "    # TODO: Implement Function\n",
    "    input_depth = int(x_tensor.shape[3])\n",
    "\n",
    "    #Filter\n",
    "    height = conv_ksize[0]\n",
    "    width = conv_ksize[1]\n",
    "\n",
    "    padding = 'SAME'    \n",
    "    \n",
    "    # The shape of the filter weight is (height, width, input_depth, output_depth)\n",
    "    # The shape of the filter bias is (output_depth,)    \n",
    "    weight_conv = tf.Variable(tf.random_normal([height, width, input_depth, conv_num_outputs], stddev=0.1))\n",
    "    bias_conv = tf.Variable(tf.zeros(conv_num_outputs))\n",
    "    \n",
    "    #tf.nn.conv2d(input, filter, strides, padding, use_cudnn_on_gpu=None, data_format=None, name=None)\n",
    "    convo = tf.nn.conv2d(x_tensor, weight_conv, [1, conv_strides[0], conv_strides[1], 1], padding=padding)\n",
    "    convo = tf.nn.bias_add(convo, bias_conv)\n",
    "    \n",
    "    #Adding a rectified linear unit\n",
    "    #tf.nn.relu(features, name=None)\n",
    "    convo = tf.nn.relu(convo)\n",
    "    \n",
    "    #Pooling\n",
    "    #tf.nn.max_pool(value, ksize, strides, padding, data_format='NHWC', name=None)\n",
    "    pool = tf.nn.max_pool(convo, [1, *pool_ksize, 1], [1, *pool_strides, 1], padding)\n",
    "    \n",
    "    \n",
    "    return pool\n",
    "\n",
    "\n",
    "\"\"\"\n",
    "DON'T MODIFY ANYTHING IN THIS CELL THAT IS BELOW THIS LINE\n",
    "\"\"\"\n",
    "tests.test_con_pool(conv2d_maxpool)"
   ]
  },
  {
   "cell_type": "markdown",
   "metadata": {},
   "source": [
    "### Flatten Layer\n",
    "Implement the `flatten` function to change the dimension of `x_tensor` from a 4-D tensor to a 2-D tensor.  The output should be the shape (*Batch Size*, *Flattened Image Size*). Shortcut option: you can use classes from the [TensorFlow Layers](https://www.tensorflow.org/api_docs/python/tf/layers) or [TensorFlow Layers (contrib)](https://www.tensorflow.org/api_guides/python/contrib.layers) packages for this layer. For more of a challenge, only use other TensorFlow packages."
   ]
  },
  {
   "cell_type": "code",
   "execution_count": 400,
   "metadata": {
    "collapsed": false
   },
   "outputs": [
    {
     "name": "stdout",
     "output_type": "stream",
     "text": [
      "Tests Passed\n"
     ]
    }
   ],
   "source": [
    "def flatten(x_tensor):\n",
    "    \"\"\"\n",
    "    Flatten x_tensor to (Batch Size, Flattened Image Size)\n",
    "    : x_tensor: A tensor of size (Batch Size, ...), where ... are the image dimensions.\n",
    "    : return: A tensor of size (Batch Size, Flattened Image Size).\n",
    "    \"\"\"\n",
    "    # TODO: Implement Function    10, 30, 6\n",
    "    shp = x_tensor.get_shape().as_list()\n",
    "    \n",
    "    #Get the total number of items after flattening\n",
    "    val = 1\n",
    "    for i in shp[1:]:\n",
    "        val = val*i \n",
    "    \n",
    "    return tf.reshape(x_tensor, shape=[-1, val])\n",
    "\n",
    "\"\"\"\n",
    "DON'T MODIFY ANYTHING IN THIS CELL THAT IS BELOW THIS LINE\n",
    "\"\"\"\n",
    "tests.test_flatten(flatten)"
   ]
  },
  {
   "cell_type": "markdown",
   "metadata": {},
   "source": [
    "### Fully-Connected Layer\n",
    "Implement the `fully_conn` function to apply a fully connected layer to `x_tensor` with the shape (*Batch Size*, *num_outputs*). Shortcut option: you can use classes from the [TensorFlow Layers](https://www.tensorflow.org/api_docs/python/tf/layers) or [TensorFlow Layers (contrib)](https://www.tensorflow.org/api_guides/python/contrib.layers) packages for this layer. For more of a challenge, only use other TensorFlow packages."
   ]
  },
  {
   "cell_type": "code",
   "execution_count": 401,
   "metadata": {
    "collapsed": false
   },
   "outputs": [
    {
     "name": "stdout",
     "output_type": "stream",
     "text": [
      "Tests Passed\n"
     ]
    }
   ],
   "source": [
    "def fully_conn(x_tensor, num_outputs):\n",
    "    \"\"\"\n",
    "    Apply a fully connected layer to x_tensor using weight and bias\n",
    "    : x_tensor: A 2-D tensor where the first dimension is batch size.\n",
    "    : num_outputs: The number of output that the new tensor should be.\n",
    "    : return: A 2-D tensor where the second dimension is num_outputs.\n",
    "    \"\"\"\n",
    "    # TODO: Implement Function\n",
    "    num_inputs = int(x_tensor.shape[1])\n",
    "    weights = tf.Variable(tf.random_normal([num_inputs, num_outputs], stddev=0.1))\n",
    "    bias = tf.Variable(tf.zeros(num_outputs))\n",
    "    \n",
    "    #Build the network\n",
    "    layer = tf.add(tf.matmul(x_tensor, weights), bias)\n",
    "    layer = tf.nn.relu(layer)\n",
    "    \n",
    "    return layer\n",
    "\n",
    "\"\"\"\n",
    "DON'T MODIFY ANYTHING IN THIS CELL THAT IS BELOW THIS LINE\n",
    "\"\"\"\n",
    "tests.test_fully_conn(fully_conn)"
   ]
  },
  {
   "cell_type": "markdown",
   "metadata": {},
   "source": [
    "### Output Layer\n",
    "Implement the `output` function to apply a fully connected layer to `x_tensor` with the shape (*Batch Size*, *num_outputs*). Shortcut option: you can use classes from the [TensorFlow Layers](https://www.tensorflow.org/api_docs/python/tf/layers) or [TensorFlow Layers (contrib)](https://www.tensorflow.org/api_guides/python/contrib.layers) packages for this layer. For more of a challenge, only use other TensorFlow packages.\n",
    "\n",
    "**Note:** Activation, softmax, or cross entropy should **not** be applied to this."
   ]
  },
  {
   "cell_type": "code",
   "execution_count": 402,
   "metadata": {
    "collapsed": false
   },
   "outputs": [
    {
     "name": "stdout",
     "output_type": "stream",
     "text": [
      "Tests Passed\n"
     ]
    }
   ],
   "source": [
    "def output(x_tensor, num_outputs):\n",
    "    \"\"\"\n",
    "    Apply a output layer to x_tensor using weight and bias\n",
    "    : x_tensor: A 2-D tensor where the first dimension is batch size.\n",
    "    : num_outputs: The number of output that the new tensor should be.\n",
    "    : return: A 2-D tensor where the second dimension is num_outputs.\n",
    "    \"\"\"\n",
    "    # TODO: Implement Function\n",
    "    num_inputs = int(x_tensor.shape[1])\n",
    "    weights = tf.Variable(tf.random_normal([num_inputs, num_outputs], stddev=0.1))\n",
    "    bias = tf.Variable(tf.random_normal([num_outputs], stddev=0.1))\n",
    "    \n",
    "    #Build the network\n",
    "    layer = tf.add(tf.matmul(x_tensor, weights), bias)\n",
    "    \n",
    "    return layer\n",
    "\n",
    "\n",
    "\"\"\"\n",
    "DON'T MODIFY ANYTHING IN THIS CELL THAT IS BELOW THIS LINE\n",
    "\"\"\"\n",
    "tests.test_output(output)"
   ]
  },
  {
   "cell_type": "markdown",
   "metadata": {},
   "source": [
    "### Create Convolutional Model\n",
    "Implement the function `conv_net` to create a convolutional neural network model. The function takes in a batch of images, `x`, and outputs logits.  Use the layers you created above to create this model:\n",
    "\n",
    "* Apply 1, 2, or 3 Convolution and Max Pool layers\n",
    "* Apply a Flatten Layer\n",
    "* Apply 1, 2, or 3 Fully Connected Layers\n",
    "* Apply an Output Layer\n",
    "* Return the output\n",
    "* Apply [TensorFlow's Dropout](https://www.tensorflow.org/api_docs/python/tf/nn/dropout) to one or more layers in the model using `keep_prob`. "
   ]
  },
  {
   "cell_type": "code",
   "execution_count": 403,
   "metadata": {
    "collapsed": false
   },
   "outputs": [
    {
     "name": "stdout",
     "output_type": "stream",
     "text": [
      "Neural Network Built!\n"
     ]
    }
   ],
   "source": [
    "def conv_net(x, keep_prob):\n",
    "    \"\"\"\n",
    "    Create a convolutional neural network model\n",
    "    : x: Placeholder tensor that holds image data.\n",
    "    : keep_prob: Placeholder tensor that hold dropout keep probability.\n",
    "    : return: Tensor that represents logits\n",
    "    \"\"\"\n",
    "    # TODO: Apply 1, 2, or 3 Convolution and Max Pool layers\n",
    "    #    Play around with different number of outputs, kernel size and stride\n",
    "    # Function Definition from Above:\n",
    "    #    conv2d_maxpool(x_tensor, conv_num_outputs, conv_ksize, conv_strides, pool_ksize, pool_strides)\n",
    "    conv = conv2d_maxpool(x, 32, (3,3), (1,1), (2,2), (2,2))\n",
    "    conv = conv2d_maxpool(conv, 32, (3,3), (2,2), (2,2), (2,2))\n",
    "    conv = conv2d_maxpool(conv, 64, (3,3), (1,1), (2,2), (2,2))\n",
    "    #32x32x3\n",
    "\n",
    "    # TODO: Apply a Flatten Layer\n",
    "    # Function Definition from Above:\n",
    "    flat = flatten(conv)\n",
    "    \n",
    "    # TODO: Apply 1, 2, or 3 Fully Connected Layers\n",
    "    #    Play around with different number of outputs\n",
    "    # Function Definition from Above:\n",
    "    #   fully_conn(x_tensor, num_outputs)\n",
    "    full = fully_conn(flat, 512)\n",
    "    #Add a dropout for regularization\n",
    "    full = tf.layers.dropout(full, keep_prob)\n",
    "    full = fully_conn(full, 128)\n",
    "    #Add a dropout for regularization\n",
    "    full = tf.layers.dropout(full, keep_prob)\n",
    "    \n",
    "    \n",
    "    \n",
    "    \n",
    "    # TODO: Apply an Output Layer\n",
    "    #    Set this to the number of classes\n",
    "    # Function Definition from Above:\n",
    "    #   output(x_tensor, num_outputs)\n",
    "    out = output(full, 10)\n",
    "    \n",
    "    # TODO: return output\n",
    "    return out\n",
    "\n",
    "\n",
    "\"\"\"\n",
    "DON'T MODIFY ANYTHING IN THIS CELL THAT IS BELOW THIS LINE\n",
    "\"\"\"\n",
    "\n",
    "##############################\n",
    "## Build the Neural Network ##\n",
    "##############################\n",
    "\n",
    "# Remove previous weights, bias, inputs, etc..\n",
    "tf.reset_default_graph()\n",
    "\n",
    "# Inputs\n",
    "x = neural_net_image_input((32, 32, 3))\n",
    "y = neural_net_label_input(10)\n",
    "keep_prob = neural_net_keep_prob_input()\n",
    "\n",
    "# Model\n",
    "logits = conv_net(x, keep_prob)\n",
    "\n",
    "# Name logits Tensor, so that is can be loaded from disk after training\n",
    "logits = tf.identity(logits, name='logits')\n",
    "\n",
    "# Loss and Optimizer\n",
    "cost = tf.reduce_mean(tf.nn.softmax_cross_entropy_with_logits(logits=logits, labels=y))\n",
    "optimizer = tf.train.AdamOptimizer().minimize(cost)\n",
    "\n",
    "# Accuracy\n",
    "correct_pred = tf.equal(tf.argmax(logits, 1), tf.argmax(y, 1))\n",
    "accuracy = tf.reduce_mean(tf.cast(correct_pred, tf.float32), name='accuracy')\n",
    "\n",
    "tests.test_conv_net(conv_net)"
   ]
  },
  {
   "cell_type": "markdown",
   "metadata": {},
   "source": [
    "## Train the Neural Network\n",
    "### Single Optimization\n",
    "Implement the function `train_neural_network` to do a single optimization.  The optimization should use `optimizer` to optimize in `session` with a `feed_dict` of the following:\n",
    "* `x` for image input\n",
    "* `y` for labels\n",
    "* `keep_prob` for keep probability for dropout\n",
    "\n",
    "This function will be called for each batch, so `tf.global_variables_initializer()` has already been called.\n",
    "\n",
    "Note: Nothing needs to be returned. This function is only optimizing the neural network."
   ]
  },
  {
   "cell_type": "code",
   "execution_count": 404,
   "metadata": {
    "collapsed": false
   },
   "outputs": [
    {
     "name": "stdout",
     "output_type": "stream",
     "text": [
      "Tests Passed\n"
     ]
    }
   ],
   "source": [
    "def train_neural_network(session, optimizer, keep_probability, feature_batch, label_batch):\n",
    "    \"\"\"\n",
    "    Optimize the session on a batch of images and labels\n",
    "    : session: Current TensorFlow session\n",
    "    : optimizer: TensorFlow optimizer function\n",
    "    : keep_probability: keep probability\n",
    "    : feature_batch: Batch of Numpy image data\n",
    "    : label_batch: Batch of Numpy label data\n",
    "    \"\"\"\n",
    "    # TODO: Implement Function\n",
    "    session.run(optimizer, feed_dict={x: feature_batch, y: label_batch, keep_prob: keep_probability})\n",
    "\n",
    "\n",
    "\"\"\"\n",
    "DON'T MODIFY ANYTHING IN THIS CELL THAT IS BELOW THIS LINE\n",
    "\"\"\"\n",
    "tests.test_train_nn(train_neural_network)"
   ]
  },
  {
   "cell_type": "markdown",
   "metadata": {},
   "source": [
    "### Show Stats\n",
    "Implement the function `print_stats` to print loss and validation accuracy.  Use the global variables `valid_features` and `valid_labels` to calculate validation accuracy.  Use a keep probability of `1.0` to calculate the loss and validation accuracy."
   ]
  },
  {
   "cell_type": "code",
   "execution_count": 408,
   "metadata": {
    "collapsed": false
   },
   "outputs": [],
   "source": [
    "def print_stats(session, feature_batch, label_batch, cost, accuracy):\n",
    "    \"\"\"\n",
    "    Print information about loss and validation accuracy\n",
    "    : session: Current TensorFlow session\n",
    "    : feature_batch: Batch of Numpy image data\n",
    "    : label_batch: Batch of Numpy label data\n",
    "    : cost: TensorFlow cost function\n",
    "    : accuracy: TensorFlow accuracy function\n",
    "    \"\"\"\n",
    "    # TODO: Implement Function\n",
    "    loss = session.run(cost, feed_dict={x:feature_batch, y:label_batch, keep_prob: 1.0})\n",
    "    validation_accuracy = session.run(accuracy, feed_dict={x:valid_features, y:valid_labels, keep_prob: 1.0})\n",
    "    \n",
    "    print('Loss: {} | Accuracy: {}'.format(loss, validation_accuracy))"
   ]
  },
  {
   "cell_type": "markdown",
   "metadata": {},
   "source": [
    "### Hyperparameters\n",
    "Tune the following parameters:\n",
    "* Set `epochs` to the number of iterations until the network stops learning or start overfitting\n",
    "* Set `batch_size` to the highest number that your machine has memory for.  Most people set them to common sizes of memory:\n",
    " * 64\n",
    " * 128\n",
    " * 256\n",
    " * ...\n",
    "* Set `keep_probability` to the probability of keeping a node using dropout"
   ]
  },
  {
   "cell_type": "code",
   "execution_count": 411,
   "metadata": {
    "collapsed": true
   },
   "outputs": [],
   "source": [
    "# TODO: Tune Parameters\n",
    "epochs = 60\n",
    "batch_size = 512\n",
    "keep_probability = 0.6"
   ]
  },
  {
   "cell_type": "markdown",
   "metadata": {},
   "source": [
    "### Train on a Single CIFAR-10 Batch\n",
    "Instead of training the neural network on all the CIFAR-10 batches of data, let's use a single batch. This should save time while you iterate on the model to get a better accuracy.  Once the final validation accuracy is 50% or greater, run the model on all the data in the next section."
   ]
  },
  {
   "cell_type": "code",
   "execution_count": 412,
   "metadata": {
    "collapsed": false
   },
   "outputs": [
    {
     "name": "stdout",
     "output_type": "stream",
     "text": [
      "Checking the Training on a Single Batch...\n",
      "Epoch  1, CIFAR-10 Batch 1:  Loss: 2.0647034645080566 | Accuracy: 0.27320000529289246\n",
      "Epoch  2, CIFAR-10 Batch 1:  Loss: 1.9111831188201904 | Accuracy: 0.3310000002384186\n",
      "Epoch  3, CIFAR-10 Batch 1:  Loss: 1.746524691581726 | Accuracy: 0.3846000134944916\n",
      "Epoch  4, CIFAR-10 Batch 1:  Loss: 1.6195317506790161 | Accuracy: 0.4269999861717224\n",
      "Epoch  5, CIFAR-10 Batch 1:  Loss: 1.5156276226043701 | Accuracy: 0.44999998807907104\n",
      "Epoch  6, CIFAR-10 Batch 1:  Loss: 1.44633150100708 | Accuracy: 0.4551999866962433\n",
      "Epoch  7, CIFAR-10 Batch 1:  Loss: 1.4216723442077637 | Accuracy: 0.4593999981880188\n",
      "Epoch  8, CIFAR-10 Batch 1:  Loss: 1.3131006956100464 | Accuracy: 0.48240000009536743\n",
      "Epoch  9, CIFAR-10 Batch 1:  Loss: 1.2590534687042236 | Accuracy: 0.4984000027179718\n",
      "Epoch 10, CIFAR-10 Batch 1:  Loss: 1.2584413290023804 | Accuracy: 0.48260000348091125\n",
      "Epoch 11, CIFAR-10 Batch 1:  Loss: 1.1537011861801147 | Accuracy: 0.5103999972343445\n",
      "Epoch 12, CIFAR-10 Batch 1:  Loss: 1.1192727088928223 | Accuracy: 0.5081999897956848\n",
      "Epoch 13, CIFAR-10 Batch 1:  Loss: 1.104419469833374 | Accuracy: 0.5034000277519226\n",
      "Epoch 14, CIFAR-10 Batch 1:  Loss: 1.0157204866409302 | Accuracy: 0.5231999754905701\n",
      "Epoch 15, CIFAR-10 Batch 1:  Loss: 0.9741391539573669 | Accuracy: 0.5221999883651733\n",
      "Epoch 16, CIFAR-10 Batch 1:  Loss: 0.9599681496620178 | Accuracy: 0.5108000040054321\n",
      "Epoch 17, CIFAR-10 Batch 1:  Loss: 0.9392270445823669 | Accuracy: 0.5113999843597412\n",
      "Epoch 18, CIFAR-10 Batch 1:  Loss: 0.8663761019706726 | Accuracy: 0.526199996471405\n",
      "Epoch 19, CIFAR-10 Batch 1:  Loss: 0.8151959776878357 | Accuracy: 0.5297999978065491\n",
      "Epoch 20, CIFAR-10 Batch 1:  Loss: 0.7845420837402344 | Accuracy: 0.5296000242233276\n",
      "Epoch 21, CIFAR-10 Batch 1:  Loss: 0.7447285056114197 | Accuracy: 0.5314000248908997\n",
      "Epoch 22, CIFAR-10 Batch 1:  Loss: 0.7189714908599854 | Accuracy: 0.5324000120162964\n",
      "Epoch 23, CIFAR-10 Batch 1:  Loss: 0.6822778582572937 | Accuracy: 0.5375999808311462\n",
      "Epoch 24, CIFAR-10 Batch 1:  Loss: 0.6370192170143127 | Accuracy: 0.5388000011444092\n",
      "Epoch 25, CIFAR-10 Batch 1:  Loss: 0.6070478558540344 | Accuracy: 0.5353999733924866\n",
      "Epoch 26, CIFAR-10 Batch 1:  Loss: 0.5667579174041748 | Accuracy: 0.5365999937057495\n",
      "Epoch 27, CIFAR-10 Batch 1:  Loss: 0.6168612241744995 | Accuracy: 0.5162000060081482\n",
      "Epoch 28, CIFAR-10 Batch 1:  Loss: 0.5596299171447754 | Accuracy: 0.5202000141143799\n",
      "Epoch 29, CIFAR-10 Batch 1:  Loss: 0.5678201913833618 | Accuracy: 0.5368000268936157\n",
      "Epoch 30, CIFAR-10 Batch 1:  Loss: 0.4933231472969055 | Accuracy: 0.5475999712944031\n",
      "Epoch 31, CIFAR-10 Batch 1:  Loss: 0.5702688097953796 | Accuracy: 0.52920001745224\n",
      "Epoch 32, CIFAR-10 Batch 1:  Loss: 0.4876408874988556 | Accuracy: 0.5315999984741211\n",
      "Epoch 33, CIFAR-10 Batch 1:  Loss: 0.39648154377937317 | Accuracy: 0.5455999970436096\n",
      "Epoch 34, CIFAR-10 Batch 1:  Loss: 0.3688368797302246 | Accuracy: 0.5411999821662903\n",
      "Epoch 35, CIFAR-10 Batch 1:  Loss: 0.3927619457244873 | Accuracy: 0.5324000120162964\n",
      "Epoch 36, CIFAR-10 Batch 1:  Loss: 0.44421643018722534 | Accuracy: 0.5112000107765198\n",
      "Epoch 37, CIFAR-10 Batch 1:  Loss: 0.3428502082824707 | Accuracy: 0.5379999876022339\n",
      "Epoch 38, CIFAR-10 Batch 1:  Loss: 0.3507755398750305 | Accuracy: 0.5267999768257141\n",
      "Epoch 39, CIFAR-10 Batch 1:  Loss: 0.30095013976097107 | Accuracy: 0.5397999882698059\n",
      "Epoch 40, CIFAR-10 Batch 1:  Loss: 0.28769585490226746 | Accuracy: 0.5478000044822693\n",
      "Epoch 41, CIFAR-10 Batch 1:  Loss: 0.3301272988319397 | Accuracy: 0.5253999829292297\n",
      "Epoch 42, CIFAR-10 Batch 1:  Loss: 0.30543673038482666 | Accuracy: 0.5267999768257141\n",
      "Epoch 43, CIFAR-10 Batch 1:  Loss: 0.3417958617210388 | Accuracy: 0.515999972820282\n",
      "Epoch 44, CIFAR-10 Batch 1:  Loss: 0.290662556886673 | Accuracy: 0.5285999774932861\n",
      "Epoch 45, CIFAR-10 Batch 1:  Loss: 0.25511541962623596 | Accuracy: 0.5483999848365784\n",
      "Epoch 46, CIFAR-10 Batch 1:  Loss: 0.2505919337272644 | Accuracy: 0.5515999794006348\n",
      "Epoch 47, CIFAR-10 Batch 1:  Loss: 0.41417601704597473 | Accuracy: 0.5120000243186951\n",
      "Epoch 48, CIFAR-10 Batch 1:  Loss: 0.31456437706947327 | Accuracy: 0.5374000072479248\n",
      "Epoch 49, CIFAR-10 Batch 1:  Loss: 0.3327755928039551 | Accuracy: 0.5332000255584717\n",
      "Epoch 50, CIFAR-10 Batch 1:  Loss: 0.3491777181625366 | Accuracy: 0.5212000012397766\n",
      "Epoch 51, CIFAR-10 Batch 1:  Loss: 0.2185186743736267 | Accuracy: 0.5450000166893005\n",
      "Epoch 52, CIFAR-10 Batch 1:  Loss: 0.18791745603084564 | Accuracy: 0.5501999855041504\n",
      "Epoch 53, CIFAR-10 Batch 1:  Loss: 0.19641155004501343 | Accuracy: 0.5440000295639038\n",
      "Epoch 54, CIFAR-10 Batch 1:  Loss: 0.20232124626636505 | Accuracy: 0.5360000133514404\n",
      "Epoch 55, CIFAR-10 Batch 1:  Loss: 0.20671358704566956 | Accuracy: 0.5347999930381775\n",
      "Epoch 56, CIFAR-10 Batch 1:  Loss: 0.20017215609550476 | Accuracy: 0.5365999937057495\n",
      "Epoch 57, CIFAR-10 Batch 1:  Loss: 0.21357795596122742 | Accuracy: 0.5320000052452087\n",
      "Epoch 58, CIFAR-10 Batch 1:  Loss: 0.22448885440826416 | Accuracy: 0.5271999835968018\n",
      "Epoch 59, CIFAR-10 Batch 1:  Loss: 0.17940130829811096 | Accuracy: 0.5418000221252441\n",
      "Epoch 60, CIFAR-10 Batch 1:  Loss: 0.24746446311473846 | Accuracy: 0.5271999835968018\n"
     ]
    }
   ],
   "source": [
    "\"\"\"\n",
    "DON'T MODIFY ANYTHING IN THIS CELL\n",
    "\"\"\"\n",
    "print('Checking the Training on a Single Batch...')\n",
    "with tf.Session() as sess:\n",
    "    # Initializing the variables\n",
    "    sess.run(tf.global_variables_initializer())\n",
    "    \n",
    "    # Training cycle\n",
    "    for epoch in range(epochs):\n",
    "        batch_i = 1\n",
    "        for batch_features, batch_labels in helper.load_preprocess_training_batch(batch_i, batch_size):\n",
    "            train_neural_network(sess, optimizer, keep_probability, batch_features, batch_labels)\n",
    "        print('Epoch {:>2}, CIFAR-10 Batch {}:  '.format(epoch + 1, batch_i), end='')\n",
    "        print_stats(sess, batch_features, batch_labels, cost, accuracy)"
   ]
  },
  {
   "cell_type": "markdown",
   "metadata": {},
   "source": [
    "### Fully Train the Model\n",
    "Now that you got a good accuracy with a single CIFAR-10 batch, try it with all five batches."
   ]
  },
  {
   "cell_type": "code",
   "execution_count": 413,
   "metadata": {
    "collapsed": false
   },
   "outputs": [
    {
     "name": "stdout",
     "output_type": "stream",
     "text": [
      "Training...\n",
      "Epoch  1, CIFAR-10 Batch 1:  Loss: 2.0433759689331055 | Accuracy: 0.2849999964237213\n",
      "Epoch  1, CIFAR-10 Batch 2:  Loss: 1.7849010229110718 | Accuracy: 0.33059999346733093\n",
      "Epoch  1, CIFAR-10 Batch 3:  Loss: 1.543654203414917 | Accuracy: 0.36980000138282776\n",
      "Epoch  1, CIFAR-10 Batch 4:  Loss: 1.5659784078598022 | Accuracy: 0.4156000018119812\n",
      "Epoch  1, CIFAR-10 Batch 5:  Loss: 1.5689764022827148 | Accuracy: 0.43860000371932983\n",
      "Epoch  2, CIFAR-10 Batch 1:  Loss: 1.6053491830825806 | Accuracy: 0.43479999899864197\n",
      "Epoch  2, CIFAR-10 Batch 2:  Loss: 1.4875500202178955 | Accuracy: 0.43860000371932983\n",
      "Epoch  2, CIFAR-10 Batch 3:  Loss: 1.3069766759872437 | Accuracy: 0.4535999894142151\n",
      "Epoch  2, CIFAR-10 Batch 4:  Loss: 1.3395191431045532 | Accuracy: 0.4887999892234802\n",
      "Epoch  2, CIFAR-10 Batch 5:  Loss: 1.3883618116378784 | Accuracy: 0.4986000061035156\n",
      "Epoch  3, CIFAR-10 Batch 1:  Loss: 1.4131653308868408 | Accuracy: 0.5059999823570251\n",
      "Epoch  3, CIFAR-10 Batch 2:  Loss: 1.3150668144226074 | Accuracy: 0.4880000054836273\n",
      "Epoch  3, CIFAR-10 Batch 3:  Loss: 1.1926287412643433 | Accuracy: 0.503000020980835\n",
      "Epoch  3, CIFAR-10 Batch 4:  Loss: 1.1911370754241943 | Accuracy: 0.5270000100135803\n",
      "Epoch  3, CIFAR-10 Batch 5:  Loss: 1.2518703937530518 | Accuracy: 0.5361999869346619\n",
      "Epoch  4, CIFAR-10 Batch 1:  Loss: 1.296752691268921 | Accuracy: 0.52920001745224\n",
      "Epoch  4, CIFAR-10 Batch 2:  Loss: 1.2148915529251099 | Accuracy: 0.519599974155426\n",
      "Epoch  4, CIFAR-10 Batch 3:  Loss: 1.1343530416488647 | Accuracy: 0.5188000202178955\n",
      "Epoch  4, CIFAR-10 Batch 4:  Loss: 1.1080772876739502 | Accuracy: 0.5411999821662903\n",
      "Epoch  4, CIFAR-10 Batch 5:  Loss: 1.1386662721633911 | Accuracy: 0.5586000084877014\n",
      "Epoch  5, CIFAR-10 Batch 1:  Loss: 1.211869478225708 | Accuracy: 0.5532000064849854\n",
      "Epoch  5, CIFAR-10 Batch 2:  Loss: 1.138977289199829 | Accuracy: 0.5475999712944031\n",
      "Epoch  5, CIFAR-10 Batch 3:  Loss: 1.0492262840270996 | Accuracy: 0.5522000193595886\n",
      "Epoch  5, CIFAR-10 Batch 4:  Loss: 1.0360876321792603 | Accuracy: 0.5537999868392944\n",
      "Epoch  5, CIFAR-10 Batch 5:  Loss: 1.0504515171051025 | Accuracy: 0.5788000226020813\n",
      "Epoch  6, CIFAR-10 Batch 1:  Loss: 1.1657603979110718 | Accuracy: 0.5580000281333923\n",
      "Epoch  6, CIFAR-10 Batch 2:  Loss: 1.0536359548568726 | Accuracy: 0.5789999961853027\n",
      "Epoch  6, CIFAR-10 Batch 3:  Loss: 0.988270103931427 | Accuracy: 0.5618000030517578\n",
      "Epoch  6, CIFAR-10 Batch 4:  Loss: 0.971616268157959 | Accuracy: 0.574999988079071\n",
      "Epoch  6, CIFAR-10 Batch 5:  Loss: 0.9773077964782715 | Accuracy: 0.5924000144004822\n",
      "Epoch  7, CIFAR-10 Batch 1:  Loss: 1.1110843420028687 | Accuracy: 0.5687999725341797\n",
      "Epoch  7, CIFAR-10 Batch 2:  Loss: 1.0045216083526611 | Accuracy: 0.5848000049591064\n",
      "Epoch  7, CIFAR-10 Batch 3:  Loss: 0.9270563721656799 | Accuracy: 0.5690000057220459\n",
      "Epoch  7, CIFAR-10 Batch 4:  Loss: 0.920608401298523 | Accuracy: 0.5867999792098999\n",
      "Epoch  7, CIFAR-10 Batch 5:  Loss: 0.9160873889923096 | Accuracy: 0.6015999913215637\n",
      "Epoch  8, CIFAR-10 Batch 1:  Loss: 1.05219304561615 | Accuracy: 0.5734000205993652\n",
      "Epoch  8, CIFAR-10 Batch 2:  Loss: 0.9465668201446533 | Accuracy: 0.5925999879837036\n",
      "Epoch  8, CIFAR-10 Batch 3:  Loss: 0.8639367818832397 | Accuracy: 0.5838000178337097\n",
      "Epoch  8, CIFAR-10 Batch 4:  Loss: 0.8712300658226013 | Accuracy: 0.597599983215332\n",
      "Epoch  8, CIFAR-10 Batch 5:  Loss: 0.8689696788787842 | Accuracy: 0.6129999756813049\n",
      "Epoch  9, CIFAR-10 Batch 1:  Loss: 0.9855623245239258 | Accuracy: 0.5888000130653381\n",
      "Epoch  9, CIFAR-10 Batch 2:  Loss: 0.8898214101791382 | Accuracy: 0.6018000245094299\n",
      "Epoch  9, CIFAR-10 Batch 3:  Loss: 0.805834949016571 | Accuracy: 0.5983999967575073\n",
      "Epoch  9, CIFAR-10 Batch 4:  Loss: 0.8116443753242493 | Accuracy: 0.61080002784729\n",
      "Epoch  9, CIFAR-10 Batch 5:  Loss: 0.8246215581893921 | Accuracy: 0.6191999912261963\n",
      "Epoch 10, CIFAR-10 Batch 1:  Loss: 0.9334569573402405 | Accuracy: 0.5997999906539917\n",
      "Epoch 10, CIFAR-10 Batch 2:  Loss: 0.8482747673988342 | Accuracy: 0.6082000136375427\n",
      "Epoch 10, CIFAR-10 Batch 3:  Loss: 0.7772951722145081 | Accuracy: 0.6021999716758728\n",
      "Epoch 10, CIFAR-10 Batch 4:  Loss: 0.7728439569473267 | Accuracy: 0.6140000224113464\n",
      "Epoch 10, CIFAR-10 Batch 5:  Loss: 0.8169649243354797 | Accuracy: 0.6161999702453613\n",
      "Epoch 11, CIFAR-10 Batch 1:  Loss: 0.9025336503982544 | Accuracy: 0.6079999804496765\n",
      "Epoch 11, CIFAR-10 Batch 2:  Loss: 0.815346896648407 | Accuracy: 0.6123999953269958\n",
      "Epoch 11, CIFAR-10 Batch 3:  Loss: 0.7697807550430298 | Accuracy: 0.6011999845504761\n",
      "Epoch 11, CIFAR-10 Batch 4:  Loss: 0.7462374567985535 | Accuracy: 0.6236000061035156\n",
      "Epoch 11, CIFAR-10 Batch 5:  Loss: 0.7467501163482666 | Accuracy: 0.6331999897956848\n",
      "Epoch 12, CIFAR-10 Batch 1:  Loss: 0.8557201623916626 | Accuracy: 0.6169999837875366\n",
      "Epoch 12, CIFAR-10 Batch 2:  Loss: 0.7757852673530579 | Accuracy: 0.6222000122070312\n",
      "Epoch 12, CIFAR-10 Batch 3:  Loss: 0.7086283564567566 | Accuracy: 0.6172000169754028\n",
      "Epoch 12, CIFAR-10 Batch 4:  Loss: 0.7194010615348816 | Accuracy: 0.6308000087738037\n",
      "Epoch 12, CIFAR-10 Batch 5:  Loss: 0.7147944569587708 | Accuracy: 0.640999972820282\n",
      "Epoch 13, CIFAR-10 Batch 1:  Loss: 0.7977710962295532 | Accuracy: 0.6258000135421753\n",
      "Epoch 13, CIFAR-10 Batch 2:  Loss: 0.7478901743888855 | Accuracy: 0.6215999722480774\n",
      "Epoch 13, CIFAR-10 Batch 3:  Loss: 0.6542313694953918 | Accuracy: 0.6248000264167786\n",
      "Epoch 13, CIFAR-10 Batch 4:  Loss: 0.7293828129768372 | Accuracy: 0.6176000237464905\n",
      "Epoch 13, CIFAR-10 Batch 5:  Loss: 0.7074036002159119 | Accuracy: 0.6366000175476074\n",
      "Epoch 14, CIFAR-10 Batch 1:  Loss: 0.7566693425178528 | Accuracy: 0.6305999755859375\n",
      "Epoch 14, CIFAR-10 Batch 2:  Loss: 0.7055853605270386 | Accuracy: 0.6284000277519226\n",
      "Epoch 14, CIFAR-10 Batch 3:  Loss: 0.641789436340332 | Accuracy: 0.6218000054359436\n",
      "Epoch 14, CIFAR-10 Batch 4:  Loss: 0.6651949286460876 | Accuracy: 0.614799976348877\n",
      "Epoch 14, CIFAR-10 Batch 5:  Loss: 0.6731162071228027 | Accuracy: 0.6377999782562256\n",
      "Epoch 15, CIFAR-10 Batch 1:  Loss: 0.7123745679855347 | Accuracy: 0.6340000033378601\n",
      "Epoch 15, CIFAR-10 Batch 2:  Loss: 0.6642030477523804 | Accuracy: 0.6345999836921692\n",
      "Epoch 15, CIFAR-10 Batch 3:  Loss: 0.6013372540473938 | Accuracy: 0.633400022983551\n",
      "Epoch 15, CIFAR-10 Batch 4:  Loss: 0.6258333325386047 | Accuracy: 0.6263999938964844\n",
      "Epoch 15, CIFAR-10 Batch 5:  Loss: 0.6391076445579529 | Accuracy: 0.6380000114440918\n",
      "Epoch 16, CIFAR-10 Batch 1:  Loss: 0.7071491479873657 | Accuracy: 0.6251999735832214\n",
      "Epoch 16, CIFAR-10 Batch 2:  Loss: 0.6681551337242126 | Accuracy: 0.6236000061035156\n",
      "Epoch 16, CIFAR-10 Batch 3:  Loss: 0.5899468660354614 | Accuracy: 0.6353999972343445\n",
      "Epoch 16, CIFAR-10 Batch 4:  Loss: 0.598482608795166 | Accuracy: 0.6313999891281128\n",
      "Epoch 16, CIFAR-10 Batch 5:  Loss: 0.5987208485603333 | Accuracy: 0.647599995136261\n",
      "Epoch 17, CIFAR-10 Batch 1:  Loss: 0.6701434850692749 | Accuracy: 0.6323999762535095\n",
      "Epoch 17, CIFAR-10 Batch 2:  Loss: 0.6603050827980042 | Accuracy: 0.6146000027656555\n",
      "Epoch 17, CIFAR-10 Batch 3:  Loss: 0.5823329091072083 | Accuracy: 0.6373999714851379\n",
      "Epoch 17, CIFAR-10 Batch 4:  Loss: 0.5810702443122864 | Accuracy: 0.6338000297546387\n",
      "Epoch 17, CIFAR-10 Batch 5:  Loss: 0.5881146192550659 | Accuracy: 0.649399995803833\n",
      "Epoch 18, CIFAR-10 Batch 1:  Loss: 0.6488376259803772 | Accuracy: 0.6376000046730042\n",
      "Epoch 18, CIFAR-10 Batch 2:  Loss: 0.646696150302887 | Accuracy: 0.6209999918937683\n",
      "Epoch 18, CIFAR-10 Batch 3:  Loss: 0.5735117793083191 | Accuracy: 0.6371999979019165\n",
      "Epoch 18, CIFAR-10 Batch 4:  Loss: 0.5737282633781433 | Accuracy: 0.629800021648407\n",
      "Epoch 18, CIFAR-10 Batch 5:  Loss: 0.5693692564964294 | Accuracy: 0.644599974155426\n",
      "Epoch 19, CIFAR-10 Batch 1:  Loss: 0.6117409467697144 | Accuracy: 0.6503999829292297\n",
      "Epoch 19, CIFAR-10 Batch 2:  Loss: 0.5860111117362976 | Accuracy: 0.6308000087738037\n",
      "Epoch 19, CIFAR-10 Batch 3:  Loss: 0.5522083640098572 | Accuracy: 0.6348000168800354\n",
      "Epoch 19, CIFAR-10 Batch 4:  Loss: 0.5792573094367981 | Accuracy: 0.6241999864578247\n",
      "Epoch 19, CIFAR-10 Batch 5:  Loss: 0.5751894116401672 | Accuracy: 0.6435999870300293\n",
      "Epoch 20, CIFAR-10 Batch 1:  Loss: 0.6113443970680237 | Accuracy: 0.646399974822998\n",
      "Epoch 20, CIFAR-10 Batch 2:  Loss: 0.5661740303039551 | Accuracy: 0.6367999911308289\n",
      "Epoch 20, CIFAR-10 Batch 3:  Loss: 0.563306987285614 | Accuracy: 0.6331999897956848\n",
      "Epoch 20, CIFAR-10 Batch 4:  Loss: 0.5543642044067383 | Accuracy: 0.6254000067710876\n",
      "Epoch 20, CIFAR-10 Batch 5:  Loss: 0.5694823265075684 | Accuracy: 0.6371999979019165\n",
      "Epoch 21, CIFAR-10 Batch 1:  Loss: 0.5906709432601929 | Accuracy: 0.6394000053405762\n",
      "Epoch 21, CIFAR-10 Batch 2:  Loss: 0.5377148985862732 | Accuracy: 0.6398000121116638\n",
      "Epoch 21, CIFAR-10 Batch 3:  Loss: 0.5294711589813232 | Accuracy: 0.6284000277519226\n",
      "Epoch 21, CIFAR-10 Batch 4:  Loss: 0.5083681344985962 | Accuracy: 0.6244000196456909\n",
      "Epoch 21, CIFAR-10 Batch 5:  Loss: 0.5232521295547485 | Accuracy: 0.6462000012397766\n",
      "Epoch 22, CIFAR-10 Batch 1:  Loss: 0.5546391606330872 | Accuracy: 0.6413999795913696\n",
      "Epoch 22, CIFAR-10 Batch 2:  Loss: 0.5292004942893982 | Accuracy: 0.6326000094413757\n",
      "Epoch 22, CIFAR-10 Batch 3:  Loss: 0.45083722472190857 | Accuracy: 0.644599974155426\n",
      "Epoch 22, CIFAR-10 Batch 4:  Loss: 0.46955573558807373 | Accuracy: 0.6394000053405762\n",
      "Epoch 22, CIFAR-10 Batch 5:  Loss: 0.5372691750526428 | Accuracy: 0.6377999782562256\n",
      "Epoch 23, CIFAR-10 Batch 1:  Loss: 0.482940673828125 | Accuracy: 0.657800018787384\n",
      "Epoch 23, CIFAR-10 Batch 2:  Loss: 0.497761070728302 | Accuracy: 0.6373999714851379\n",
      "Epoch 23, CIFAR-10 Batch 3:  Loss: 0.4243549108505249 | Accuracy: 0.6406000256538391\n",
      "Epoch 23, CIFAR-10 Batch 4:  Loss: 0.46307557821273804 | Accuracy: 0.6448000073432922\n",
      "Epoch 23, CIFAR-10 Batch 5:  Loss: 0.5329611897468567 | Accuracy: 0.6317999958992004\n",
      "Epoch 24, CIFAR-10 Batch 1:  Loss: 0.46003419160842896 | Accuracy: 0.6610000133514404\n",
      "Epoch 24, CIFAR-10 Batch 2:  Loss: 0.4718741476535797 | Accuracy: 0.6380000114440918\n",
      "Epoch 24, CIFAR-10 Batch 3:  Loss: 0.3976725935935974 | Accuracy: 0.6338000297546387\n",
      "Epoch 24, CIFAR-10 Batch 4:  Loss: 0.4464816153049469 | Accuracy: 0.6453999876976013\n",
      "Epoch 24, CIFAR-10 Batch 5:  Loss: 0.5147419571876526 | Accuracy: 0.6304000020027161\n",
      "Epoch 25, CIFAR-10 Batch 1:  Loss: 0.45735791325569153 | Accuracy: 0.6556000113487244\n",
      "Epoch 25, CIFAR-10 Batch 2:  Loss: 0.4433428645133972 | Accuracy: 0.6434000134468079\n",
      "Epoch 25, CIFAR-10 Batch 3:  Loss: 0.3633649945259094 | Accuracy: 0.6413999795913696\n",
      "Epoch 25, CIFAR-10 Batch 4:  Loss: 0.42327359318733215 | Accuracy: 0.6431999802589417\n",
      "Epoch 25, CIFAR-10 Batch 5:  Loss: 0.4756644070148468 | Accuracy: 0.6384000182151794\n",
      "Epoch 26, CIFAR-10 Batch 1:  Loss: 0.45261192321777344 | Accuracy: 0.6498000025749207\n",
      "Epoch 26, CIFAR-10 Batch 2:  Loss: 0.4282380938529968 | Accuracy: 0.6398000121116638\n",
      "Epoch 26, CIFAR-10 Batch 3:  Loss: 0.34302133321762085 | Accuracy: 0.6373999714851379\n",
      "Epoch 26, CIFAR-10 Batch 4:  Loss: 0.425118625164032 | Accuracy: 0.6302000284194946\n",
      "Epoch 26, CIFAR-10 Batch 5:  Loss: 0.42212966084480286 | Accuracy: 0.6466000080108643\n",
      "Epoch 27, CIFAR-10 Batch 1:  Loss: 0.4471609890460968 | Accuracy: 0.6389999985694885\n",
      "Epoch 27, CIFAR-10 Batch 2:  Loss: 0.40570491552352905 | Accuracy: 0.6421999931335449\n",
      "Epoch 27, CIFAR-10 Batch 3:  Loss: 0.33460015058517456 | Accuracy: 0.6413999795913696\n",
      "Epoch 27, CIFAR-10 Batch 4:  Loss: 0.3994351029396057 | Accuracy: 0.6389999985694885\n",
      "Epoch 27, CIFAR-10 Batch 5:  Loss: 0.41193002462387085 | Accuracy: 0.6431999802589417\n",
      "Epoch 28, CIFAR-10 Batch 1:  Loss: 0.4435580372810364 | Accuracy: 0.631600022315979\n",
      "Epoch 28, CIFAR-10 Batch 2:  Loss: 0.4272567629814148 | Accuracy: 0.645799994468689\n",
      "Epoch 28, CIFAR-10 Batch 3:  Loss: 0.3871414065361023 | Accuracy: 0.6335999965667725\n",
      "Epoch 28, CIFAR-10 Batch 4:  Loss: 0.37162384390830994 | Accuracy: 0.65420001745224\n",
      "Epoch 28, CIFAR-10 Batch 5:  Loss: 0.39756011962890625 | Accuracy: 0.6439999938011169\n",
      "Epoch 29, CIFAR-10 Batch 1:  Loss: 0.3906867504119873 | Accuracy: 0.6345999836921692\n",
      "Epoch 29, CIFAR-10 Batch 2:  Loss: 0.4109736382961273 | Accuracy: 0.6395999789237976\n",
      "Epoch 29, CIFAR-10 Batch 3:  Loss: 0.3638720214366913 | Accuracy: 0.6313999891281128\n",
      "Epoch 29, CIFAR-10 Batch 4:  Loss: 0.3562917411327362 | Accuracy: 0.6531999707221985\n",
      "Epoch 29, CIFAR-10 Batch 5:  Loss: 0.349777489900589 | Accuracy: 0.649399995803833\n",
      "Epoch 30, CIFAR-10 Batch 1:  Loss: 0.39848604798316956 | Accuracy: 0.6284000277519226\n",
      "Epoch 30, CIFAR-10 Batch 2:  Loss: 0.4064054787158966 | Accuracy: 0.6277999877929688\n",
      "Epoch 30, CIFAR-10 Batch 3:  Loss: 0.33609968423843384 | Accuracy: 0.633400022983551\n",
      "Epoch 30, CIFAR-10 Batch 4:  Loss: 0.3443613350391388 | Accuracy: 0.6485999822616577\n",
      "Epoch 30, CIFAR-10 Batch 5:  Loss: 0.3276589810848236 | Accuracy: 0.6444000005722046\n",
      "Epoch 31, CIFAR-10 Batch 1:  Loss: 0.3831263780593872 | Accuracy: 0.6276000142097473\n",
      "Epoch 31, CIFAR-10 Batch 2:  Loss: 0.3846825361251831 | Accuracy: 0.6287999749183655\n",
      "Epoch 31, CIFAR-10 Batch 3:  Loss: 0.28662797808647156 | Accuracy: 0.6438000202178955\n",
      "Epoch 31, CIFAR-10 Batch 4:  Loss: 0.3243929147720337 | Accuracy: 0.6484000086784363\n",
      "Epoch 31, CIFAR-10 Batch 5:  Loss: 0.30870479345321655 | Accuracy: 0.6481999754905701\n",
      "Epoch 32, CIFAR-10 Batch 1:  Loss: 0.3486880362033844 | Accuracy: 0.6263999938964844\n",
      "Epoch 32, CIFAR-10 Batch 2:  Loss: 0.3545919954776764 | Accuracy: 0.6284000277519226\n",
      "Epoch 32, CIFAR-10 Batch 3:  Loss: 0.2753985822200775 | Accuracy: 0.644599974155426\n",
      "Epoch 32, CIFAR-10 Batch 4:  Loss: 0.29401227831840515 | Accuracy: 0.6516000032424927\n",
      "Epoch 32, CIFAR-10 Batch 5:  Loss: 0.27575209736824036 | Accuracy: 0.6502000093460083\n",
      "Epoch 33, CIFAR-10 Batch 1:  Loss: 0.32627636194229126 | Accuracy: 0.6204000115394592\n",
      "Epoch 33, CIFAR-10 Batch 2:  Loss: 0.3187144100666046 | Accuracy: 0.6425999999046326\n",
      "Epoch 33, CIFAR-10 Batch 3:  Loss: 0.25118404626846313 | Accuracy: 0.6449999809265137\n",
      "Epoch 33, CIFAR-10 Batch 4:  Loss: 0.2494230568408966 | Accuracy: 0.6561999917030334\n",
      "Epoch 33, CIFAR-10 Batch 5:  Loss: 0.25840190052986145 | Accuracy: 0.6525999903678894\n",
      "Epoch 34, CIFAR-10 Batch 1:  Loss: 0.29982054233551025 | Accuracy: 0.6284000277519226\n",
      "Epoch 34, CIFAR-10 Batch 2:  Loss: 0.29683923721313477 | Accuracy: 0.644599974155426\n",
      "Epoch 34, CIFAR-10 Batch 3:  Loss: 0.23553530871868134 | Accuracy: 0.6480000019073486\n",
      "Epoch 34, CIFAR-10 Batch 4:  Loss: 0.24527020752429962 | Accuracy: 0.647599995136261\n",
      "Epoch 34, CIFAR-10 Batch 5:  Loss: 0.25522273778915405 | Accuracy: 0.6517999768257141\n",
      "Epoch 35, CIFAR-10 Batch 1:  Loss: 0.3112039268016815 | Accuracy: 0.6376000046730042\n",
      "Epoch 35, CIFAR-10 Batch 2:  Loss: 0.29630526900291443 | Accuracy: 0.6326000094413757\n",
      "Epoch 35, CIFAR-10 Batch 3:  Loss: 0.2291175276041031 | Accuracy: 0.646399974822998\n",
      "Epoch 35, CIFAR-10 Batch 4:  Loss: 0.2636393904685974 | Accuracy: 0.6367999911308289\n",
      "Epoch 35, CIFAR-10 Batch 5:  Loss: 0.24384431540966034 | Accuracy: 0.6543999910354614\n",
      "Epoch 36, CIFAR-10 Batch 1:  Loss: 0.3562215268611908 | Accuracy: 0.6248000264167786\n",
      "Epoch 36, CIFAR-10 Batch 2:  Loss: 0.2640007436275482 | Accuracy: 0.6439999938011169\n",
      "Epoch 36, CIFAR-10 Batch 3:  Loss: 0.22462785243988037 | Accuracy: 0.6520000100135803\n",
      "Epoch 36, CIFAR-10 Batch 4:  Loss: 0.2739826440811157 | Accuracy: 0.6312000155448914\n",
      "Epoch 36, CIFAR-10 Batch 5:  Loss: 0.2479608952999115 | Accuracy: 0.6534000039100647\n",
      "Epoch 37, CIFAR-10 Batch 1:  Loss: 0.26195722818374634 | Accuracy: 0.6395999789237976\n",
      "Epoch 37, CIFAR-10 Batch 2:  Loss: 0.24696992337703705 | Accuracy: 0.6484000086784363\n",
      "Epoch 37, CIFAR-10 Batch 3:  Loss: 0.22733889520168304 | Accuracy: 0.6425999999046326\n",
      "Epoch 37, CIFAR-10 Batch 4:  Loss: 0.28371724486351013 | Accuracy: 0.63919997215271\n",
      "Epoch 37, CIFAR-10 Batch 5:  Loss: 0.2473275512456894 | Accuracy: 0.6462000012397766\n",
      "Epoch 38, CIFAR-10 Batch 1:  Loss: 0.2600461542606354 | Accuracy: 0.635200023651123\n",
      "Epoch 38, CIFAR-10 Batch 2:  Loss: 0.22096386551856995 | Accuracy: 0.6442000269889832\n",
      "Epoch 38, CIFAR-10 Batch 3:  Loss: 0.21182648837566376 | Accuracy: 0.6353999972343445\n",
      "Epoch 38, CIFAR-10 Batch 4:  Loss: 0.2482370138168335 | Accuracy: 0.6438000202178955\n",
      "Epoch 38, CIFAR-10 Batch 5:  Loss: 0.23150058090686798 | Accuracy: 0.6435999870300293\n",
      "Epoch 39, CIFAR-10 Batch 1:  Loss: 0.2584593892097473 | Accuracy: 0.63919997215271\n",
      "Epoch 39, CIFAR-10 Batch 2:  Loss: 0.20032687485218048 | Accuracy: 0.6462000012397766\n",
      "Epoch 39, CIFAR-10 Batch 3:  Loss: 0.17040999233722687 | Accuracy: 0.6395999789237976\n",
      "Epoch 39, CIFAR-10 Batch 4:  Loss: 0.20113882422447205 | Accuracy: 0.6531999707221985\n",
      "Epoch 39, CIFAR-10 Batch 5:  Loss: 0.2410094290971756 | Accuracy: 0.6320000290870667\n",
      "Epoch 40, CIFAR-10 Batch 1:  Loss: 0.23743771016597748 | Accuracy: 0.6403999924659729\n",
      "Epoch 40, CIFAR-10 Batch 2:  Loss: 0.2200625091791153 | Accuracy: 0.6366000175476074\n",
      "Epoch 40, CIFAR-10 Batch 3:  Loss: 0.1708052009344101 | Accuracy: 0.6377999782562256\n",
      "Epoch 40, CIFAR-10 Batch 4:  Loss: 0.2067273110151291 | Accuracy: 0.6420000195503235\n",
      "Epoch 40, CIFAR-10 Batch 5:  Loss: 0.2767755687236786 | Accuracy: 0.6241999864578247\n",
      "Epoch 41, CIFAR-10 Batch 1:  Loss: 0.25712358951568604 | Accuracy: 0.6308000087738037\n",
      "Epoch 41, CIFAR-10 Batch 2:  Loss: 0.3268359303474426 | Accuracy: 0.6158000230789185\n",
      "Epoch 41, CIFAR-10 Batch 3:  Loss: 0.2738805413246155 | Accuracy: 0.6204000115394592\n",
      "Epoch 41, CIFAR-10 Batch 4:  Loss: 0.21286873519420624 | Accuracy: 0.6453999876976013\n",
      "Epoch 41, CIFAR-10 Batch 5:  Loss: 0.2560042440891266 | Accuracy: 0.6384000182151794\n",
      "Epoch 42, CIFAR-10 Batch 1:  Loss: 0.24217064678668976 | Accuracy: 0.6322000026702881\n",
      "Epoch 42, CIFAR-10 Batch 2:  Loss: 0.2741045653820038 | Accuracy: 0.6222000122070312\n",
      "Epoch 42, CIFAR-10 Batch 3:  Loss: 0.19299252331256866 | Accuracy: 0.6439999938011169\n",
      "Epoch 42, CIFAR-10 Batch 4:  Loss: 0.19972898066043854 | Accuracy: 0.6421999931335449\n",
      "Epoch 42, CIFAR-10 Batch 5:  Loss: 0.21641594171524048 | Accuracy: 0.6435999870300293\n",
      "Epoch 43, CIFAR-10 Batch 1:  Loss: 0.22702240943908691 | Accuracy: 0.631600022315979\n",
      "Epoch 43, CIFAR-10 Batch 2:  Loss: 0.23110544681549072 | Accuracy: 0.6269999742507935\n",
      "Epoch 43, CIFAR-10 Batch 3:  Loss: 0.17893819510936737 | Accuracy: 0.6416000127792358\n",
      "Epoch 43, CIFAR-10 Batch 4:  Loss: 0.18387579917907715 | Accuracy: 0.6424000263214111\n",
      "Epoch 43, CIFAR-10 Batch 5:  Loss: 0.17777681350708008 | Accuracy: 0.6481999754905701\n",
      "Epoch 44, CIFAR-10 Batch 1:  Loss: 0.23345880210399628 | Accuracy: 0.6290000081062317\n",
      "Epoch 44, CIFAR-10 Batch 2:  Loss: 0.22650976479053497 | Accuracy: 0.623199999332428\n",
      "Epoch 44, CIFAR-10 Batch 3:  Loss: 0.18159346282482147 | Accuracy: 0.6431999802589417\n",
      "Epoch 44, CIFAR-10 Batch 4:  Loss: 0.18283948302268982 | Accuracy: 0.629800021648407\n",
      "Epoch 44, CIFAR-10 Batch 5:  Loss: 0.16199660301208496 | Accuracy: 0.6421999931335449\n",
      "Epoch 45, CIFAR-10 Batch 1:  Loss: 0.24368317425251007 | Accuracy: 0.6200000047683716\n",
      "Epoch 45, CIFAR-10 Batch 2:  Loss: 0.21481943130493164 | Accuracy: 0.621399998664856\n",
      "Epoch 45, CIFAR-10 Batch 3:  Loss: 0.19820867478847504 | Accuracy: 0.6345999836921692\n",
      "Epoch 45, CIFAR-10 Batch 4:  Loss: 0.17012585699558258 | Accuracy: 0.6269999742507935\n",
      "Epoch 45, CIFAR-10 Batch 5:  Loss: 0.15926022827625275 | Accuracy: 0.6363999843597412\n",
      "Epoch 46, CIFAR-10 Batch 1:  Loss: 0.2585042715072632 | Accuracy: 0.607200026512146\n",
      "Epoch 46, CIFAR-10 Batch 2:  Loss: 0.2238295078277588 | Accuracy: 0.6222000122070312\n",
      "Epoch 46, CIFAR-10 Batch 3:  Loss: 0.2252892106771469 | Accuracy: 0.6377999782562256\n",
      "Epoch 46, CIFAR-10 Batch 4:  Loss: 0.18990685045719147 | Accuracy: 0.6169999837875366\n",
      "Epoch 46, CIFAR-10 Batch 5:  Loss: 0.2205759733915329 | Accuracy: 0.6254000067710876\n",
      "Epoch 47, CIFAR-10 Batch 1:  Loss: 0.23884673416614532 | Accuracy: 0.6176000237464905\n",
      "Epoch 47, CIFAR-10 Batch 2:  Loss: 0.2551480233669281 | Accuracy: 0.620199978351593\n",
      "Epoch 47, CIFAR-10 Batch 3:  Loss: 0.25658559799194336 | Accuracy: 0.6218000054359436\n",
      "Epoch 47, CIFAR-10 Batch 4:  Loss: 0.17417152225971222 | Accuracy: 0.6209999918937683\n",
      "Epoch 47, CIFAR-10 Batch 5:  Loss: 0.17097172141075134 | Accuracy: 0.6385999917984009\n",
      "Epoch 48, CIFAR-10 Batch 1:  Loss: 0.2151937484741211 | Accuracy: 0.6349999904632568\n",
      "Epoch 48, CIFAR-10 Batch 2:  Loss: 0.1575164496898651 | Accuracy: 0.6299999952316284\n",
      "Epoch 48, CIFAR-10 Batch 3:  Loss: 0.15574122965335846 | Accuracy: 0.6424000263214111\n",
      "Epoch 48, CIFAR-10 Batch 4:  Loss: 0.17261675000190735 | Accuracy: 0.6169999837875366\n",
      "Epoch 48, CIFAR-10 Batch 5:  Loss: 0.14924749732017517 | Accuracy: 0.6413999795913696\n",
      "Epoch 49, CIFAR-10 Batch 1:  Loss: 0.1955268681049347 | Accuracy: 0.6230000257492065\n",
      "Epoch 49, CIFAR-10 Batch 2:  Loss: 0.1582961231470108 | Accuracy: 0.6251999735832214\n",
      "Epoch 49, CIFAR-10 Batch 3:  Loss: 0.12967437505722046 | Accuracy: 0.642799973487854\n",
      "Epoch 49, CIFAR-10 Batch 4:  Loss: 0.13515031337738037 | Accuracy: 0.6197999715805054\n",
      "Epoch 49, CIFAR-10 Batch 5:  Loss: 0.13913965225219727 | Accuracy: 0.6322000026702881\n",
      "Epoch 50, CIFAR-10 Batch 1:  Loss: 0.15143494307994843 | Accuracy: 0.628600001335144\n",
      "Epoch 50, CIFAR-10 Batch 2:  Loss: 0.1551649421453476 | Accuracy: 0.6255999803543091\n",
      "Epoch 50, CIFAR-10 Batch 3:  Loss: 0.1205284371972084 | Accuracy: 0.6416000127792358\n",
      "Epoch 50, CIFAR-10 Batch 4:  Loss: 0.1310226321220398 | Accuracy: 0.621999979019165\n",
      "Epoch 50, CIFAR-10 Batch 5:  Loss: 0.15091469883918762 | Accuracy: 0.6281999945640564\n",
      "Epoch 51, CIFAR-10 Batch 1:  Loss: 0.13269227743148804 | Accuracy: 0.631600022315979\n",
      "Epoch 51, CIFAR-10 Batch 2:  Loss: 0.13492923974990845 | Accuracy: 0.6200000047683716\n",
      "Epoch 51, CIFAR-10 Batch 3:  Loss: 0.13062278926372528 | Accuracy: 0.6317999958992004\n",
      "Epoch 51, CIFAR-10 Batch 4:  Loss: 0.10998130589723587 | Accuracy: 0.6272000074386597\n",
      "Epoch 51, CIFAR-10 Batch 5:  Loss: 0.13117994368076324 | Accuracy: 0.628600001335144\n",
      "Epoch 52, CIFAR-10 Batch 1:  Loss: 0.11879540979862213 | Accuracy: 0.6402000188827515\n",
      "Epoch 52, CIFAR-10 Batch 2:  Loss: 0.15958580374717712 | Accuracy: 0.6118000149726868\n",
      "Epoch 52, CIFAR-10 Batch 3:  Loss: 0.13988757133483887 | Accuracy: 0.6290000081062317\n",
      "Epoch 52, CIFAR-10 Batch 4:  Loss: 0.09806881844997406 | Accuracy: 0.6295999884605408\n",
      "Epoch 52, CIFAR-10 Batch 5:  Loss: 0.11730577796697617 | Accuracy: 0.644599974155426\n",
      "Epoch 53, CIFAR-10 Batch 1:  Loss: 0.15662455558776855 | Accuracy: 0.6215999722480774\n",
      "Epoch 53, CIFAR-10 Batch 2:  Loss: 0.14966028928756714 | Accuracy: 0.6140000224113464\n",
      "Epoch 53, CIFAR-10 Batch 3:  Loss: 0.16718405485153198 | Accuracy: 0.6194000244140625\n",
      "Epoch 53, CIFAR-10 Batch 4:  Loss: 0.11558960378170013 | Accuracy: 0.6123999953269958\n",
      "Epoch 53, CIFAR-10 Batch 5:  Loss: 0.12150420248508453 | Accuracy: 0.6412000060081482\n",
      "Epoch 54, CIFAR-10 Batch 1:  Loss: 0.14514373242855072 | Accuracy: 0.6236000061035156\n",
      "Epoch 54, CIFAR-10 Batch 2:  Loss: 0.15265975892543793 | Accuracy: 0.6191999912261963\n",
      "Epoch 54, CIFAR-10 Batch 3:  Loss: 0.17453531920909882 | Accuracy: 0.614799976348877\n",
      "Epoch 54, CIFAR-10 Batch 4:  Loss: 0.10190345346927643 | Accuracy: 0.625\n",
      "Epoch 54, CIFAR-10 Batch 5:  Loss: 0.13131096959114075 | Accuracy: 0.6262000203132629\n",
      "Epoch 55, CIFAR-10 Batch 1:  Loss: 0.12639231979846954 | Accuracy: 0.629800021648407\n",
      "Epoch 55, CIFAR-10 Batch 2:  Loss: 0.12846940755844116 | Accuracy: 0.6272000074386597\n",
      "Epoch 55, CIFAR-10 Batch 3:  Loss: 0.20863309502601624 | Accuracy: 0.6060000061988831\n",
      "Epoch 55, CIFAR-10 Batch 4:  Loss: 0.1260060966014862 | Accuracy: 0.6208000183105469\n",
      "Epoch 55, CIFAR-10 Batch 5:  Loss: 0.14374321699142456 | Accuracy: 0.6312000155448914\n",
      "Epoch 56, CIFAR-10 Batch 1:  Loss: 0.15961337089538574 | Accuracy: 0.6218000054359436\n",
      "Epoch 56, CIFAR-10 Batch 2:  Loss: 0.08030135184526443 | Accuracy: 0.6407999992370605\n",
      "Epoch 56, CIFAR-10 Batch 3:  Loss: 0.18362370133399963 | Accuracy: 0.6137999892234802\n",
      "Epoch 56, CIFAR-10 Batch 4:  Loss: 0.1454087644815445 | Accuracy: 0.6119999885559082\n",
      "Epoch 56, CIFAR-10 Batch 5:  Loss: 0.12173151224851608 | Accuracy: 0.6322000026702881\n",
      "Epoch 57, CIFAR-10 Batch 1:  Loss: 0.1314070075750351 | Accuracy: 0.6309999823570251\n",
      "Epoch 57, CIFAR-10 Batch 2:  Loss: 0.08847136050462723 | Accuracy: 0.6420000195503235\n",
      "Epoch 57, CIFAR-10 Batch 3:  Loss: 0.13983109593391418 | Accuracy: 0.6227999925613403\n",
      "Epoch 57, CIFAR-10 Batch 4:  Loss: 0.12922403216362 | Accuracy: 0.5968000292778015\n",
      "Epoch 57, CIFAR-10 Batch 5:  Loss: 0.11982009559869766 | Accuracy: 0.6240000128746033\n",
      "Epoch 58, CIFAR-10 Batch 1:  Loss: 0.13451214134693146 | Accuracy: 0.6262000203132629\n",
      "Epoch 58, CIFAR-10 Batch 2:  Loss: 0.10324686020612717 | Accuracy: 0.6417999863624573\n",
      "Epoch 58, CIFAR-10 Batch 3:  Loss: 0.10606848448514938 | Accuracy: 0.6255999803543091\n",
      "Epoch 58, CIFAR-10 Batch 4:  Loss: 0.10968847572803497 | Accuracy: 0.599399983882904\n",
      "Epoch 58, CIFAR-10 Batch 5:  Loss: 0.15223157405853271 | Accuracy: 0.6115999817848206\n",
      "Epoch 59, CIFAR-10 Batch 1:  Loss: 0.089997299015522 | Accuracy: 0.6398000121116638\n",
      "Epoch 59, CIFAR-10 Batch 2:  Loss: 0.08493822067975998 | Accuracy: 0.6452000141143799\n",
      "Epoch 59, CIFAR-10 Batch 3:  Loss: 0.09561736136674881 | Accuracy: 0.623199999332428\n",
      "Epoch 59, CIFAR-10 Batch 4:  Loss: 0.11061913520097733 | Accuracy: 0.6159999966621399\n",
      "Epoch 59, CIFAR-10 Batch 5:  Loss: 0.11184076219797134 | Accuracy: 0.621399998664856\n",
      "Epoch 60, CIFAR-10 Batch 1:  Loss: 0.11916647851467133 | Accuracy: 0.6362000107765198\n",
      "Epoch 60, CIFAR-10 Batch 2:  Loss: 0.07360817492008209 | Accuracy: 0.645799994468689\n",
      "Epoch 60, CIFAR-10 Batch 3:  Loss: 0.08922824263572693 | Accuracy: 0.6177999973297119\n",
      "Epoch 60, CIFAR-10 Batch 4:  Loss: 0.09460968524217606 | Accuracy: 0.6190000176429749\n",
      "Epoch 60, CIFAR-10 Batch 5:  Loss: 0.10036701709032059 | Accuracy: 0.6241999864578247\n"
     ]
    }
   ],
   "source": [
    "\"\"\"\n",
    "DON'T MODIFY ANYTHING IN THIS CELL\n",
    "\"\"\"\n",
    "save_model_path = './image_classification'\n",
    "\n",
    "print('Training...')\n",
    "with tf.Session() as sess:\n",
    "    # Initializing the variables\n",
    "    sess.run(tf.global_variables_initializer())\n",
    "    \n",
    "    # Training cycle\n",
    "    for epoch in range(epochs):\n",
    "        # Loop over all batches\n",
    "        n_batches = 5\n",
    "        for batch_i in range(1, n_batches + 1):\n",
    "            for batch_features, batch_labels in helper.load_preprocess_training_batch(batch_i, batch_size):\n",
    "                train_neural_network(sess, optimizer, keep_probability, batch_features, batch_labels)\n",
    "            print('Epoch {:>2}, CIFAR-10 Batch {}:  '.format(epoch + 1, batch_i), end='')\n",
    "            print_stats(sess, batch_features, batch_labels, cost, accuracy)\n",
    "            \n",
    "    # Save Model\n",
    "    saver = tf.train.Saver()\n",
    "    save_path = saver.save(sess, save_model_path)"
   ]
  },
  {
   "cell_type": "markdown",
   "metadata": {},
   "source": [
    "# Checkpoint\n",
    "The model has been saved to disk.\n",
    "## Test Model\n",
    "Test your model against the test dataset.  This will be your final accuracy. You should have an accuracy greater than 50%. If you don't, keep tweaking the model architecture and parameters."
   ]
  },
  {
   "cell_type": "code",
   "execution_count": 415,
   "metadata": {
    "collapsed": false
   },
   "outputs": [
    {
     "name": "stdout",
     "output_type": "stream",
     "text": [
      "Testing Accuracy: 0.623265165090561\n",
      "\n"
     ]
    },
    {
     "data": {
      "image/png": "[encoded data removed]",
      "text/plain": [
       "<matplotlib.figure.Figure at 0xbcf9f60>"
      ]
     },
     "metadata": {
      "image/png": {
       "height": 319,
       "width": 355
      }
     },
     "output_type": "display_data"
    }
   ],
   "source": [
    "\"\"\"\n",
    "DON'T MODIFY ANYTHING IN THIS CELL\n",
    "\"\"\"\n",
    "%matplotlib inline\n",
    "%config InlineBackend.figure_format = 'retina'\n",
    "\n",
    "import tensorflow as tf\n",
    "import pickle\n",
    "import helper\n",
    "import random\n",
    "\n",
    "# Set batch size if not already set\n",
    "try:\n",
    "    if batch_size:\n",
    "        pass\n",
    "except NameError:\n",
    "    batch_size = 64\n",
    "\n",
    "save_model_path = './image_classification'\n",
    "n_samples = 4\n",
    "top_n_predictions = 3\n",
    "\n",
    "def test_model():\n",
    "    \"\"\"\n",
    "    Test the saved model against the test dataset\n",
    "    \"\"\"\n",
    "\n",
    "    test_features, test_labels = pickle.load(open('preprocess_training.p', mode='rb'))\n",
    "    loaded_graph = tf.Graph()\n",
    "\n",
    "    with tf.Session(graph=loaded_graph) as sess:\n",
    "        # Load model\n",
    "        loader = tf.train.import_meta_graph(save_model_path + '.meta')\n",
    "        loader.restore(sess, save_model_path)\n",
    "\n",
    "        # Get Tensors from loaded model\n",
    "        loaded_x = loaded_graph.get_tensor_by_name('x:0')\n",
    "        loaded_y = loaded_graph.get_tensor_by_name('y:0')\n",
    "        loaded_keep_prob = loaded_graph.get_tensor_by_name('keep_prob:0')\n",
    "        loaded_logits = loaded_graph.get_tensor_by_name('logits:0')\n",
    "        loaded_acc = loaded_graph.get_tensor_by_name('accuracy:0')\n",
    "        \n",
    "        # Get accuracy in batches for memory limitations\n",
    "        test_batch_acc_total = 0\n",
    "        test_batch_count = 0\n",
    "        \n",
    "        for train_feature_batch, train_label_batch in helper.batch_features_labels(test_features, test_labels, batch_size):\n",
    "            test_batch_acc_total += sess.run(\n",
    "                loaded_acc,\n",
    "                feed_dict={loaded_x: train_feature_batch, loaded_y: train_label_batch, loaded_keep_prob: 1.0})\n",
    "            test_batch_count += 1\n",
    "\n",
    "        print('Testing Accuracy: {}\\n'.format(test_batch_acc_total/test_batch_count))\n",
    "\n",
    "        # Print Random Samples\n",
    "        random_test_features, random_test_labels = tuple(zip(*random.sample(list(zip(test_features, test_labels)), n_samples)))\n",
    "        random_test_predictions = sess.run(\n",
    "            tf.nn.top_k(tf.nn.softmax(loaded_logits), top_n_predictions),\n",
    "            feed_dict={loaded_x: random_test_features, loaded_y: random_test_labels, loaded_keep_prob: 1.0})\n",
    "        helper.display_image_predictions(random_test_features, random_test_labels, random_test_predictions)\n",
    "\n",
    "\n",
    "test_model()"
   ]
  },
  {
   "cell_type": "markdown",
   "metadata": {},
   "source": [
    "## Why 50-70% Accuracy?\n",
    "You might be wondering why you can't get an accuracy any higher. First things first, 50% isn't bad for a simple CNN.  Pure guessing would get you 10% accuracy. However, you might notice people are getting scores [well above 70%](http://rodrigob.github.io/are_we_there_yet/build/classification_datasets_results.html#43494641522d3130).  That's because we haven't taught you all there is to know about neural networks. We still need to cover a few more techniques.\n",
    "## Submitting This Project\n",
    "When submitting this project, make sure to run all the cells before saving the notebook.  Save the notebook file as \"dlnd_image_classification.ipynb\" and save it as a HTML file under \"File\" -> \"Download as\".  Include the \"helper.py\" and \"problem_unittests.py\" files in your submission."
   ]
  },
  {
   "cell_type": "code",
   "execution_count": null,
   "metadata": {
    "collapsed": true
   },
   "outputs": [],
   "source": []
  }
 ],
 "metadata": {
  "kernelspec": {
   "display_name": "Python 3",
   "language": "python",
   "name": "python3"
  },
  "language_info": {
   "codemirror_mode": {
    "name": "ipython",
    "version": 3
   },
   "file_extension": ".py",
   "mimetype": "text/x-python",
   "name": "python",
   "nbconvert_exporter": "python",
   "pygments_lexer": "ipython3",
   "version": "3.5.2"
  }
 },
 "nbformat": 4,
 "nbformat_minor": 0
}
